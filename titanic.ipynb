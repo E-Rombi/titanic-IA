{
 "cells": [
  {
   "cell_type": "code",
   "execution_count": 97,
   "metadata": {
    "collapsed": true,
    "pycharm": {
     "name": "#%%\n"
    }
   },
   "outputs": [
    {
     "data": {
      "text/plain": "      id  Sobrevivente  Classe                                    Nome  \\\n196  197             0       3                     Mernagh, Mr. Robert   \n755  756             1       2               Hamalainen, Master. Viljo   \n531  532             0       3                       Toufik, Mr. Nakli   \n533  534             1       3  Peter, Mrs. Catherine (Catherine Rizk)   \n284  285             0       1              Smith, Mr. Richard William   \n..   ...           ...     ...                                     ...   \n672  673             0       2             Mitchell, Mr. Henry Michael   \n493  494             0       1                 Artagaveytia, Mr. Ramon   \n96    97             0       1               Goldschmidt, Mr. George B   \n851  852             0       3                     Svensson, Mr. Johan   \n630  631             1       1    Barkworth, Mr. Algernon Henry Wilson   \n\n          Sexo  Idade  NumIrmaosConjuge  NumPaisFilhos    Passagem  \\\n196  masculino   0.00                 0              0      368703   \n755  masculino   0.67                 1              1      250649   \n531  masculino   0.00                 0              0        2641   \n533   feminino   0.00                 0              2        2668   \n284  masculino   0.00                 0              0      113056   \n..         ...    ...               ...            ...         ...   \n672  masculino  70.00                 0              0  C.A. 24580   \n493  masculino  71.00                 0              0    PC 17609   \n96   masculino  71.00                 0              0    PC 17754   \n851  masculino  74.00                 0              0      347060   \n630  masculino  80.00                 0              0       27042   \n\n     PrecoPassagem Cabine PortoEmbarque  Nasc.  \n196         7.7500      0             Q   1912  \n755        14.5000      0             S   1912  \n531         7.2292      0             C   1912  \n533        22.3583      0             C   1912  \n284        26.0000    A19             S   1912  \n..             ...    ...           ...    ...  \n672        10.5000      0             S   1842  \n493        49.5042      0             C   1841  \n96         34.6542     A5             C   1841  \n851         7.7750      0             S   1838  \n630        30.0000    A23             S   1832  \n\n[891 rows x 13 columns]",
      "text/html": "<div>\n<style scoped>\n    .dataframe tbody tr th:only-of-type {\n        vertical-align: middle;\n    }\n\n    .dataframe tbody tr th {\n        vertical-align: top;\n    }\n\n    .dataframe thead th {\n        text-align: right;\n    }\n</style>\n<table border=\"1\" class=\"dataframe\">\n  <thead>\n    <tr style=\"text-align: right;\">\n      <th></th>\n      <th>id</th>\n      <th>Sobrevivente</th>\n      <th>Classe</th>\n      <th>Nome</th>\n      <th>Sexo</th>\n      <th>Idade</th>\n      <th>NumIrmaosConjuge</th>\n      <th>NumPaisFilhos</th>\n      <th>Passagem</th>\n      <th>PrecoPassagem</th>\n      <th>Cabine</th>\n      <th>PortoEmbarque</th>\n      <th>Nasc.</th>\n    </tr>\n  </thead>\n  <tbody>\n    <tr>\n      <th>196</th>\n      <td>197</td>\n      <td>0</td>\n      <td>3</td>\n      <td>Mernagh, Mr. Robert</td>\n      <td>masculino</td>\n      <td>0.00</td>\n      <td>0</td>\n      <td>0</td>\n      <td>368703</td>\n      <td>7.7500</td>\n      <td>0</td>\n      <td>Q</td>\n      <td>1912</td>\n    </tr>\n    <tr>\n      <th>755</th>\n      <td>756</td>\n      <td>1</td>\n      <td>2</td>\n      <td>Hamalainen, Master. Viljo</td>\n      <td>masculino</td>\n      <td>0.67</td>\n      <td>1</td>\n      <td>1</td>\n      <td>250649</td>\n      <td>14.5000</td>\n      <td>0</td>\n      <td>S</td>\n      <td>1912</td>\n    </tr>\n    <tr>\n      <th>531</th>\n      <td>532</td>\n      <td>0</td>\n      <td>3</td>\n      <td>Toufik, Mr. Nakli</td>\n      <td>masculino</td>\n      <td>0.00</td>\n      <td>0</td>\n      <td>0</td>\n      <td>2641</td>\n      <td>7.2292</td>\n      <td>0</td>\n      <td>C</td>\n      <td>1912</td>\n    </tr>\n    <tr>\n      <th>533</th>\n      <td>534</td>\n      <td>1</td>\n      <td>3</td>\n      <td>Peter, Mrs. Catherine (Catherine Rizk)</td>\n      <td>feminino</td>\n      <td>0.00</td>\n      <td>0</td>\n      <td>2</td>\n      <td>2668</td>\n      <td>22.3583</td>\n      <td>0</td>\n      <td>C</td>\n      <td>1912</td>\n    </tr>\n    <tr>\n      <th>284</th>\n      <td>285</td>\n      <td>0</td>\n      <td>1</td>\n      <td>Smith, Mr. Richard William</td>\n      <td>masculino</td>\n      <td>0.00</td>\n      <td>0</td>\n      <td>0</td>\n      <td>113056</td>\n      <td>26.0000</td>\n      <td>A19</td>\n      <td>S</td>\n      <td>1912</td>\n    </tr>\n    <tr>\n      <th>...</th>\n      <td>...</td>\n      <td>...</td>\n      <td>...</td>\n      <td>...</td>\n      <td>...</td>\n      <td>...</td>\n      <td>...</td>\n      <td>...</td>\n      <td>...</td>\n      <td>...</td>\n      <td>...</td>\n      <td>...</td>\n      <td>...</td>\n    </tr>\n    <tr>\n      <th>672</th>\n      <td>673</td>\n      <td>0</td>\n      <td>2</td>\n      <td>Mitchell, Mr. Henry Michael</td>\n      <td>masculino</td>\n      <td>70.00</td>\n      <td>0</td>\n      <td>0</td>\n      <td>C.A. 24580</td>\n      <td>10.5000</td>\n      <td>0</td>\n      <td>S</td>\n      <td>1842</td>\n    </tr>\n    <tr>\n      <th>493</th>\n      <td>494</td>\n      <td>0</td>\n      <td>1</td>\n      <td>Artagaveytia, Mr. Ramon</td>\n      <td>masculino</td>\n      <td>71.00</td>\n      <td>0</td>\n      <td>0</td>\n      <td>PC 17609</td>\n      <td>49.5042</td>\n      <td>0</td>\n      <td>C</td>\n      <td>1841</td>\n    </tr>\n    <tr>\n      <th>96</th>\n      <td>97</td>\n      <td>0</td>\n      <td>1</td>\n      <td>Goldschmidt, Mr. George B</td>\n      <td>masculino</td>\n      <td>71.00</td>\n      <td>0</td>\n      <td>0</td>\n      <td>PC 17754</td>\n      <td>34.6542</td>\n      <td>A5</td>\n      <td>C</td>\n      <td>1841</td>\n    </tr>\n    <tr>\n      <th>851</th>\n      <td>852</td>\n      <td>0</td>\n      <td>3</td>\n      <td>Svensson, Mr. Johan</td>\n      <td>masculino</td>\n      <td>74.00</td>\n      <td>0</td>\n      <td>0</td>\n      <td>347060</td>\n      <td>7.7750</td>\n      <td>0</td>\n      <td>S</td>\n      <td>1838</td>\n    </tr>\n    <tr>\n      <th>630</th>\n      <td>631</td>\n      <td>1</td>\n      <td>1</td>\n      <td>Barkworth, Mr. Algernon Henry Wilson</td>\n      <td>masculino</td>\n      <td>80.00</td>\n      <td>0</td>\n      <td>0</td>\n      <td>27042</td>\n      <td>30.0000</td>\n      <td>A23</td>\n      <td>S</td>\n      <td>1832</td>\n    </tr>\n  </tbody>\n</table>\n<p>891 rows × 13 columns</p>\n</div>"
     },
     "execution_count": 97,
     "metadata": {},
     "output_type": "execute_result"
    }
   ],
   "source": [
    "import pandas as pd\n",
    "\n",
    "\n",
    "df = pd.read_csv('./dataset/dataset.csv', encoding='UTF-8')\n",
    "\n",
    "ano_base = 1912\n",
    "\n",
    "df = df.fillna(0)\n",
    "\n",
    "df['Nasc.'] = ano_base - df['Idade'].astype(int)\n",
    "\n",
    "df = df.sort_values(by=\"Nasc.\", ascending=False)\n",
    "\n",
    "df[['Nome', 'Nasc.', \"Idade\"]]\n",
    "df"
   ]
  },
  {
   "cell_type": "code",
   "execution_count": 91,
   "outputs": [
    {
     "data": {
      "text/plain": "0.0     177\n24.0     30\n22.0     27\n18.0     26\n30.0     25\nName: Idade, dtype: int64"
     },
     "execution_count": 91,
     "metadata": {},
     "output_type": "execute_result"
    }
   ],
   "source": [
    "#Valores unicos e suas contagens\n",
    "\n",
    "df[ df['Idade'] == 0 ][['Nome', 'Idade']]\n",
    "\n",
    "df['Idade'].value_counts().head()\n"
   ],
   "metadata": {
    "collapsed": false,
    "pycharm": {
     "name": "#%%\n"
    }
   }
  },
  {
   "cell_type": "code",
   "execution_count": 92,
   "outputs": [],
   "source": [
    "# import plotly.express as px\n",
    "#\n",
    "# df['Sobrevivente'].replace(0, 'Não', inplace=True)\n",
    "# df['Sobrevivente'].replace(1, 'Sim', inplace=True)\n",
    "#\n",
    "# fig = px.pie(df, names='Sobrevivente', title='Passageiros Sobreviventes')\n",
    "# fig.show()\n",
    "#\n",
    "# df['Classe'].replace(1, 'Primeira Classe', inplace=True)\n",
    "# df['Classe'].replace(2, 'Segunda Classe', inplace=True)\n",
    "# df['Classe'].replace(3, 'Terceira Classe', inplace=True)\n",
    "#\n",
    "# fig = px.pie(df, names='Classe', title='Passageiros por Classe')\n",
    "# fig.show()\n"
   ],
   "metadata": {
    "collapsed": false,
    "pycharm": {
     "name": "#%%\n"
    }
   }
  },
  {
   "cell_type": "code",
   "execution_count": 93,
   "outputs": [
    {
     "data": {
      "text/plain": "           Percentual\nSexo                 \nfeminino    68.128655\nmasculino   31.871345",
      "text/html": "<div>\n<style scoped>\n    .dataframe tbody tr th:only-of-type {\n        vertical-align: middle;\n    }\n\n    .dataframe tbody tr th {\n        vertical-align: top;\n    }\n\n    .dataframe thead th {\n        text-align: right;\n    }\n</style>\n<table border=\"1\" class=\"dataframe\">\n  <thead>\n    <tr style=\"text-align: right;\">\n      <th></th>\n      <th>Percentual</th>\n    </tr>\n    <tr>\n      <th>Sexo</th>\n      <th></th>\n    </tr>\n  </thead>\n  <tbody>\n    <tr>\n      <th>feminino</th>\n      <td>68.128655</td>\n    </tr>\n    <tr>\n      <th>masculino</th>\n      <td>31.871345</td>\n    </tr>\n  </tbody>\n</table>\n</div>"
     },
     "execution_count": 93,
     "metadata": {},
     "output_type": "execute_result"
    }
   ],
   "source": [
    "#Percentual sobreviventes\n",
    "agrupado = df[ df['Sobrevivente'] == 1].groupby(['Sexo']).count()\n",
    "total = agrupado.loc['feminino', 'id'] + agrupado.loc['masculino', 'id']\n",
    "agrupado['Percentual'] = (agrupado['id'] / total) * 100\n",
    "agrupado[['Percentual']]"
   ],
   "metadata": {
    "collapsed": false,
    "pycharm": {
     "name": "#%%\n"
    }
   }
  },
  {
   "cell_type": "code",
   "execution_count": 94,
   "outputs": [
    {
     "data": {
      "text/plain": "               Idade\nSexo                \nfeminino   31.483516\nmasculino  32.220444",
      "text/html": "<div>\n<style scoped>\n    .dataframe tbody tr th:only-of-type {\n        vertical-align: middle;\n    }\n\n    .dataframe tbody tr th {\n        vertical-align: top;\n    }\n\n    .dataframe thead th {\n        text-align: right;\n    }\n</style>\n<table border=\"1\" class=\"dataframe\">\n  <thead>\n    <tr style=\"text-align: right;\">\n      <th></th>\n      <th>Idade</th>\n    </tr>\n    <tr>\n      <th>Sexo</th>\n      <th></th>\n    </tr>\n  </thead>\n  <tbody>\n    <tr>\n      <th>feminino</th>\n      <td>31.483516</td>\n    </tr>\n    <tr>\n      <th>masculino</th>\n      <td>32.220444</td>\n    </tr>\n  </tbody>\n</table>\n</div>"
     },
     "execution_count": 94,
     "metadata": {},
     "output_type": "execute_result"
    }
   ],
   "source": [
    "#Media idade\n",
    "media = df[ (df['Sobrevivente'] == 1) ].groupby(['Classe', 'Sexo'])[['Idade']].mean()\n",
    "max = df[ (df['Sobrevivente'] == 1) ].groupby(['Classe', 'Sexo'])[['Idade']].max()\n",
    "min = df[ (df['Sobrevivente'] == 1) ].groupby(['Classe', 'Sexo'])[['Idade']].min()\n",
    "media.loc[1]"
   ],
   "metadata": {
    "collapsed": false,
    "pycharm": {
     "name": "#%%\n"
    }
   }
  },
  {
   "cell_type": "code",
   "execution_count": 95,
   "outputs": [
    {
     "data": {
      "text/plain": "                  Idade\nClasse Sexo            \n1      feminino    63.0\n       masculino   80.0\n2      feminino    55.0\n       masculino   62.0\n3      feminino    63.0\n       masculino   45.0",
      "text/html": "<div>\n<style scoped>\n    .dataframe tbody tr th:only-of-type {\n        vertical-align: middle;\n    }\n\n    .dataframe tbody tr th {\n        vertical-align: top;\n    }\n\n    .dataframe thead th {\n        text-align: right;\n    }\n</style>\n<table border=\"1\" class=\"dataframe\">\n  <thead>\n    <tr style=\"text-align: right;\">\n      <th></th>\n      <th></th>\n      <th>Idade</th>\n    </tr>\n    <tr>\n      <th>Classe</th>\n      <th>Sexo</th>\n      <th></th>\n    </tr>\n  </thead>\n  <tbody>\n    <tr>\n      <th rowspan=\"2\" valign=\"top\">1</th>\n      <th>feminino</th>\n      <td>63.0</td>\n    </tr>\n    <tr>\n      <th>masculino</th>\n      <td>80.0</td>\n    </tr>\n    <tr>\n      <th rowspan=\"2\" valign=\"top\">2</th>\n      <th>feminino</th>\n      <td>55.0</td>\n    </tr>\n    <tr>\n      <th>masculino</th>\n      <td>62.0</td>\n    </tr>\n    <tr>\n      <th rowspan=\"2\" valign=\"top\">3</th>\n      <th>feminino</th>\n      <td>63.0</td>\n    </tr>\n    <tr>\n      <th>masculino</th>\n      <td>45.0</td>\n    </tr>\n  </tbody>\n</table>\n</div>"
     },
     "execution_count": 95,
     "metadata": {},
     "output_type": "execute_result"
    }
   ],
   "source": [
    "#max idade\n",
    "max"
   ],
   "metadata": {
    "collapsed": false,
    "pycharm": {
     "name": "#%%\n"
    }
   }
  },
  {
   "cell_type": "code",
   "execution_count": 96,
   "outputs": [
    {
     "data": {
      "text/plain": "                  Idade\nClasse Sexo            \n1      feminino     0.0\n       masculino    0.0\n2      feminino     0.0\n       masculino    0.0\n3      feminino     0.0\n       masculino    0.0",
      "text/html": "<div>\n<style scoped>\n    .dataframe tbody tr th:only-of-type {\n        vertical-align: middle;\n    }\n\n    .dataframe tbody tr th {\n        vertical-align: top;\n    }\n\n    .dataframe thead th {\n        text-align: right;\n    }\n</style>\n<table border=\"1\" class=\"dataframe\">\n  <thead>\n    <tr style=\"text-align: right;\">\n      <th></th>\n      <th></th>\n      <th>Idade</th>\n    </tr>\n    <tr>\n      <th>Classe</th>\n      <th>Sexo</th>\n      <th></th>\n    </tr>\n  </thead>\n  <tbody>\n    <tr>\n      <th rowspan=\"2\" valign=\"top\">1</th>\n      <th>feminino</th>\n      <td>0.0</td>\n    </tr>\n    <tr>\n      <th>masculino</th>\n      <td>0.0</td>\n    </tr>\n    <tr>\n      <th rowspan=\"2\" valign=\"top\">2</th>\n      <th>feminino</th>\n      <td>0.0</td>\n    </tr>\n    <tr>\n      <th>masculino</th>\n      <td>0.0</td>\n    </tr>\n    <tr>\n      <th rowspan=\"2\" valign=\"top\">3</th>\n      <th>feminino</th>\n      <td>0.0</td>\n    </tr>\n    <tr>\n      <th>masculino</th>\n      <td>0.0</td>\n    </tr>\n  </tbody>\n</table>\n</div>"
     },
     "execution_count": 96,
     "metadata": {},
     "output_type": "execute_result"
    }
   ],
   "source": [
    "#mix idade\n",
    "min"
   ],
   "metadata": {
    "collapsed": false,
    "pycharm": {
     "name": "#%%\n"
    }
   }
  },
  {
   "cell_type": "code",
   "execution_count": 99,
   "outputs": [
    {
     "data": {
      "text/plain": "              PrecoPassagem\nSobrevivente               \n0                 22.117887\n1                 48.395408",
      "text/html": "<div>\n<style scoped>\n    .dataframe tbody tr th:only-of-type {\n        vertical-align: middle;\n    }\n\n    .dataframe tbody tr th {\n        vertical-align: top;\n    }\n\n    .dataframe thead th {\n        text-align: right;\n    }\n</style>\n<table border=\"1\" class=\"dataframe\">\n  <thead>\n    <tr style=\"text-align: right;\">\n      <th></th>\n      <th>PrecoPassagem</th>\n    </tr>\n    <tr>\n      <th>Sobrevivente</th>\n      <th></th>\n    </tr>\n  </thead>\n  <tbody>\n    <tr>\n      <th>0</th>\n      <td>22.117887</td>\n    </tr>\n    <tr>\n      <th>1</th>\n      <td>48.395408</td>\n    </tr>\n  </tbody>\n</table>\n</div>"
     },
     "execution_count": 99,
     "metadata": {},
     "output_type": "execute_result"
    }
   ],
   "source": [
    "#preco de passagem por sobrevivente e nao sobrevivente\n",
    "df.groupby('Sobrevivente')[['PrecoPassagem']].mean()"
   ],
   "metadata": {
    "collapsed": false,
    "pycharm": {
     "name": "#%%\n"
    }
   }
  },
  {
   "cell_type": "code",
   "execution_count": 101,
   "outputs": [
    {
     "data": {
      "text/plain": "        PrecoPassagem\nClasse               \n1           64.684007\n2           19.412328\n3           13.669364",
      "text/html": "<div>\n<style scoped>\n    .dataframe tbody tr th:only-of-type {\n        vertical-align: middle;\n    }\n\n    .dataframe tbody tr th {\n        vertical-align: top;\n    }\n\n    .dataframe thead th {\n        text-align: right;\n    }\n</style>\n<table border=\"1\" class=\"dataframe\">\n  <thead>\n    <tr style=\"text-align: right;\">\n      <th></th>\n      <th>PrecoPassagem</th>\n    </tr>\n    <tr>\n      <th>Classe</th>\n      <th></th>\n    </tr>\n  </thead>\n  <tbody>\n    <tr>\n      <th>1</th>\n      <td>64.684007</td>\n    </tr>\n    <tr>\n      <th>2</th>\n      <td>19.412328</td>\n    </tr>\n    <tr>\n      <th>3</th>\n      <td>13.669364</td>\n    </tr>\n  </tbody>\n</table>\n</div>"
     },
     "execution_count": 101,
     "metadata": {},
     "output_type": "execute_result"
    }
   ],
   "source": [
    "#idade media de mulheres nao sobreviventes, por classe\n",
    "\n",
    "df[ df['Sobrevivente'] == 0 ].groupby('Classe')[['PrecoPassagem']].mean()\n",
    "\n",
    "\n",
    "\n"
   ],
   "metadata": {
    "collapsed": false,
    "pycharm": {
     "name": "#%%\n"
    }
   }
  }
 ],
 "metadata": {
  "kernelspec": {
   "display_name": "Python 3",
   "language": "python",
   "name": "python3"
  },
  "language_info": {
   "codemirror_mode": {
    "name": "ipython",
    "version": 2
   },
   "file_extension": ".py",
   "mimetype": "text/x-python",
   "name": "python",
   "nbconvert_exporter": "python",
   "pygments_lexer": "ipython2",
   "version": "2.7.6"
  }
 },
 "nbformat": 4,
 "nbformat_minor": 0
}