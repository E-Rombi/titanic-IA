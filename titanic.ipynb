{
 "cells": [
  {
   "cell_type": "code",
   "execution_count": 11,
   "metadata": {
    "collapsed": true,
    "pycharm": {
     "name": "#%%\n"
    }
   },
   "outputs": [
    {
     "data": {
      "text/plain": "                                       Nome  Nasc.  Idade\n196                     Mernagh, Mr. Robert   1912   0.00\n755               Hamalainen, Master. Viljo   1912   0.67\n531                       Toufik, Mr. Nakli   1912   0.00\n533  Peter, Mrs. Catherine (Catherine Rizk)   1912   0.00\n284              Smith, Mr. Richard William   1912   0.00\n..                                      ...    ...    ...\n672             Mitchell, Mr. Henry Michael   1842  70.00\n493                 Artagaveytia, Mr. Ramon   1841  71.00\n96                Goldschmidt, Mr. George B   1841  71.00\n851                     Svensson, Mr. Johan   1838  74.00\n630    Barkworth, Mr. Algernon Henry Wilson   1832  80.00\n\n[891 rows x 3 columns]",
      "text/html": "<div>\n<style scoped>\n    .dataframe tbody tr th:only-of-type {\n        vertical-align: middle;\n    }\n\n    .dataframe tbody tr th {\n        vertical-align: top;\n    }\n\n    .dataframe thead th {\n        text-align: right;\n    }\n</style>\n<table border=\"1\" class=\"dataframe\">\n  <thead>\n    <tr style=\"text-align: right;\">\n      <th></th>\n      <th>Nome</th>\n      <th>Nasc.</th>\n      <th>Idade</th>\n    </tr>\n  </thead>\n  <tbody>\n    <tr>\n      <th>196</th>\n      <td>Mernagh, Mr. Robert</td>\n      <td>1912</td>\n      <td>0.00</td>\n    </tr>\n    <tr>\n      <th>755</th>\n      <td>Hamalainen, Master. Viljo</td>\n      <td>1912</td>\n      <td>0.67</td>\n    </tr>\n    <tr>\n      <th>531</th>\n      <td>Toufik, Mr. Nakli</td>\n      <td>1912</td>\n      <td>0.00</td>\n    </tr>\n    <tr>\n      <th>533</th>\n      <td>Peter, Mrs. Catherine (Catherine Rizk)</td>\n      <td>1912</td>\n      <td>0.00</td>\n    </tr>\n    <tr>\n      <th>284</th>\n      <td>Smith, Mr. Richard William</td>\n      <td>1912</td>\n      <td>0.00</td>\n    </tr>\n    <tr>\n      <th>...</th>\n      <td>...</td>\n      <td>...</td>\n      <td>...</td>\n    </tr>\n    <tr>\n      <th>672</th>\n      <td>Mitchell, Mr. Henry Michael</td>\n      <td>1842</td>\n      <td>70.00</td>\n    </tr>\n    <tr>\n      <th>493</th>\n      <td>Artagaveytia, Mr. Ramon</td>\n      <td>1841</td>\n      <td>71.00</td>\n    </tr>\n    <tr>\n      <th>96</th>\n      <td>Goldschmidt, Mr. George B</td>\n      <td>1841</td>\n      <td>71.00</td>\n    </tr>\n    <tr>\n      <th>851</th>\n      <td>Svensson, Mr. Johan</td>\n      <td>1838</td>\n      <td>74.00</td>\n    </tr>\n    <tr>\n      <th>630</th>\n      <td>Barkworth, Mr. Algernon Henry Wilson</td>\n      <td>1832</td>\n      <td>80.00</td>\n    </tr>\n  </tbody>\n</table>\n<p>891 rows × 3 columns</p>\n</div>"
     },
     "execution_count": 11,
     "metadata": {},
     "output_type": "execute_result"
    }
   ],
   "source": [
    "import pandas as pd\n",
    "\n",
    "df = pd.read_csv('./dataset/dataset.csv', encoding='UTF-8')\n",
    "\n",
    "ano_base = 1912\n",
    "\n",
    "df = df.fillna(0)\n",
    "\n",
    "df['Nasc.'] = ano_base - df['Idade'].astype(int)\n",
    "\n",
    "df = df.sort_values(by=\"Nasc.\", ascending=False)\n",
    "\n",
    "df[['Nome', 'Nasc.', \"Idade\"]]"
   ]
  }
 ],
 "metadata": {
  "kernelspec": {
   "display_name": "Python 3",
   "language": "python",
   "name": "python3"
  },
  "language_info": {
   "codemirror_mode": {
    "name": "ipython",
    "version": 2
   },
   "file_extension": ".py",
   "mimetype": "text/x-python",
   "name": "python",
   "nbconvert_exporter": "python",
   "pygments_lexer": "ipython2",
   "version": "2.7.6"
  }
 },
 "nbformat": 4,
 "nbformat_minor": 0
}